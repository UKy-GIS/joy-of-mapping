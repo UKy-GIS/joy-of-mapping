{
 "cells": [
  {
   "cell_type": "markdown",
   "metadata": {},
   "source": [
    "# Joy Maps\n",
    "\n",
    "An example of creating block diagrams inspired by Joy Division's 1979 *Unknown Pleasures* album cover using Kentucky's new state-wide Digital Surface Model created from recent Lidar data collection.\n",
    "\n",
    "![Unknown Pleasures](https://www.typeroom.eu/assets/original/2020/05/18/JoyDivision-UnknownPleasures-B1.jpg)\n",
    "\n",
    "Sources: KyFromAbove at https://kygeonet.ky.gov"
   ]
  },
  {
   "cell_type": "code",
   "execution_count": null,
   "metadata": {},
   "outputs": [],
   "source": [
    "# Import ArcGIS Pro site package\n",
    "import arcpy"
   ]
  },
  {
   "cell_type": "code",
   "execution_count": null,
   "metadata": {},
   "outputs": [],
   "source": [
    "# Location of geodatabase\n",
    "arcpy.env.workspace = 'c:/BoydsGIS/j/joy.gdb'\n",
    "\n",
    "# Let's not add output to map\n",
    "arcpy.env.addOutputsToMap = False\n",
    "\n",
    "# Set our CRS\n",
    "ky = arcpy.SpatialReference(3089)\n",
    "wgs84 = arcpy.SpatialReference(4326)"
   ]
  },
  {
   "cell_type": "code",
   "execution_count": null,
   "metadata": {},
   "outputs": [],
   "source": [
    "# Set our area of interest\n",
    "lat = 38.1317719\n",
    "lon = -84.5049721\n",
    "\n",
    "# Distance in feet from lat,lon\n",
    "buffer = 1000"
   ]
  },
  {
   "cell_type": "code",
   "execution_count": null,
   "metadata": {},
   "outputs": [],
   "source": [
    "# KyFromAbove Rest endpoint from https://kygeonet.ky.gov/\n",
    "dsm = 'https://kyraster.ky.gov/arcgis/rest/services/ElevationServices/Ky_DSM_First_Return_5FT_Phase1/ImageServer'"
   ]
  },
  {
   "cell_type": "code",
   "execution_count": null,
   "metadata": {},
   "outputs": [],
   "source": [
    "# Create area of interest center point\n",
    "point = arcpy.Point(lon, lat) \n",
    "ptGeometry = arcpy.PointGeometry(point, wgs84)\n",
    "arcpy.env.outputCoordinateSystem = ky\n",
    "arcpy.CopyFeatures_management(ptGeometry, \"point\")"
   ]
  },
  {
   "cell_type": "code",
   "execution_count": null,
   "metadata": {},
   "outputs": [],
   "source": [
    "# Buffer and square our area of interest\n",
    "arcpy.analysis.Buffer(\"point\", \"aoi\", buffer)\n",
    "arcpy.env.addOutputsToMap = True\n",
    "arcpy.management.FeatureEnvelopeToPolygon('aoi', 'square_aoi')\n",
    "arcpy.env.addOutputsToMap = False"
   ]
  },
  {
   "cell_type": "code",
   "execution_count": null,
   "metadata": {},
   "outputs": [],
   "source": [
    "# Create collar for block diagram edges\n",
    "arcpy.analysis.Buffer('square_aoi', 'clip', -10)\n",
    "arcpy.analysis.Erase('square_aoi', 'clip', 'collar')"
   ]
  },
  {
   "cell_type": "code",
   "execution_count": null,
   "metadata": {},
   "outputs": [],
   "source": [
    "# Extract DSM from area of interest\n",
    "a = arcpy.sa.ExtractByMask(dsm, 'square_aoi')\n",
    "a.save('dsm')\n",
    "print(f\"{a.minimum} is our lowest elevation. That's our floor\")"
   ]
  },
  {
   "cell_type": "code",
   "execution_count": null,
   "metadata": {},
   "outputs": [],
   "source": [
    "# Verify\n",
    "b = arcpy.sa.Raster('dsm')\n",
    "b"
   ]
  },
  {
   "cell_type": "code",
   "execution_count": null,
   "metadata": {},
   "outputs": [],
   "source": [
    "# Create DSM surface with collared edges\n",
    "arcpy.PolygonToRaster_conversion(\"collar\", \"ORIG_FID\", \"zero_raster\", \"#\", \"#\", 5)\n",
    "c = arcpy.sa.Con(arcpy.sa.IsNull('zero_raster'), b, b.minimum)\n",
    "c.save('surface')"
   ]
  },
  {
   "cell_type": "markdown",
   "metadata": {},
   "source": [
    "## Add line, then copy to fill area of interest\n",
    "\n",
    "Create a new line feature class and add a single line that aligns with the north edge of the area of interest. Use snapping to make it exact.\n",
    "\n",
    "![Create new feature class](https://nyc3.digitaloceanspaces.com/astoria/pro-relief/images/01.jpg)    \n",
    "*Create new feature class*\n",
    "\n",
    "![Set geometry to line](https://nyc3.digitaloceanspaces.com/astoria/pro-relief/images/02.jpg)    \n",
    "*Set geometry to lines*\n",
    "\n",
    "![Make sure if has correct CRS and finish](https://nyc3.digitaloceanspaces.com/astoria/pro-relief/images/03.jpg)    \n",
    "*Make sure if has correct CRS and finish*\n",
    "\n",
    "\n",
    "![Edit line and draw single feature on edge of AOI](https://nyc3.digitaloceanspaces.com/astoria/pro-relief/images/04.jpg)    \n",
    "*Edit line and draw single feature on edge of AOI*\n",
    "\n",
    "\n",
    "![Modify feature and copy parallel](https://nyc3.digitaloceanspaces.com/astoria/pro-relief/images/05.jpg)    \n",
    "*Modify feature and copy parallel*\n",
    "\n",
    "\n",
    "![Save and clear any selections](https://nyc3.digitaloceanspaces.com/astoria/pro-relief/images/06.jpg)    \n",
    "*Save and clear any selections*"
   ]
  },
  {
   "cell_type": "code",
   "execution_count": null,
   "metadata": {},
   "outputs": [],
   "source": [
    "# Add vertices along line every 5 feet\n",
    "arcpy.edit.Densify('lines', '#', 5)"
   ]
  },
  {
   "cell_type": "code",
   "execution_count": null,
   "metadata": {},
   "outputs": [],
   "source": [
    "# Add elevation to lines\n",
    "arcpy.ddd.UpdateFeatureZ('lines', 'surface')"
   ]
  },
  {
   "cell_type": "markdown",
   "metadata": {},
   "source": [
    "## Visualize\n",
    "\n",
    "Add lines to New Local Scene and symbolize 3D line layer. Tip, add a fill symbology.\n",
    "\n",
    "![Herrington Lake Dam](https://nyc3.digitaloceanspaces.com/astoria/pro-relief/images/end.jpg)    \n",
    "*Herrington Lake Dam*"
   ]
  },
  {
   "cell_type": "code",
   "execution_count": null,
   "metadata": {},
   "outputs": [],
   "source": []
  }
 ],
 "metadata": {
  "kernelspec": {
   "display_name": "ArcGISPro",
   "language": "Python",
   "name": "python3"
  },
  "language_info": {
   "file_extension": ".py",
   "name": "python",
   "version": "3"
  }
 },
 "nbformat": 4,
 "nbformat_minor": 2
}
